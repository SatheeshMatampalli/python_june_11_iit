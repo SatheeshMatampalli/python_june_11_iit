{
 "cells": [
  {
   "cell_type": "markdown",
   "metadata": {},
   "source": [
    "**MARKDOWN Basics**<br>\n",
    "       * Bold...>** data **<br>\n",
    "       * Italic...> * data *<br>\n",
    "       * bold and italic....>*** data ***<br>\n",
    "       * *space is for moving given formate\n",
    "       * <br> is for break line<br>\n",
    "       \n",
    "       \n",
    "       \n",
    "** order **\n",
    "**give two line  above spaces for starting new order list**\n",
    "        1. element1\n",
    "        2. element2\n",
    "        \n",
    "[jupyter logo](juy.png)<br>**this is for image adding**\n",
    "![jupyter logo](juy.png)<br>**this is for image displaying**\n",
    "\n",
    "\n",
    "- []option 1\n",
    "- []option 2\n",
    "\n",
    "    \n",
    "       \n",
    "    "
   ]
  },
  {
   "cell_type": "markdown",
   "metadata": {},
   "source": [
    "# NoteBook Basics\n",
    "**Bold**\n",
    "*italic*\n",
    "***IB***\n",
    "\n"
   ]
  },
  {
   "cell_type": "markdown",
   "metadata": {},
   "source": [
    "# hello satheesh"
   ]
  },
  {
   "cell_type": "code",
   "execution_count": null,
   "metadata": {},
   "outputs": [],
   "source": []
  }
 ],
 "metadata": {
  "kernelspec": {
   "display_name": "Python 3",
   "language": "python",
   "name": "python3"
  },
  "language_info": {
   "codemirror_mode": {
    "name": "ipython",
    "version": 3
   },
   "file_extension": ".py",
   "mimetype": "text/x-python",
   "name": "python",
   "nbconvert_exporter": "python",
   "pygments_lexer": "ipython3",
   "version": "3.7.3"
  }
 },
 "nbformat": 4,
 "nbformat_minor": 2
}
